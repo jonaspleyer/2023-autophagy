{
 "cells": [
  {
   "cell_type": "code",
   "execution_count": null,
   "metadata": {},
   "outputs": [],
   "source": [
    "import cr_autophagy as cra\n",
    "from pathlib import Path\n",
    "\n",
    "import importlib\n",
    "importlib.reload(cra)\n",
    "import glob\n",
    "import numpy as np\n",
    "import multiprocessing as mp\n",
    "import tqdm\n",
    "import matplotlib.pyplot as plt\n",
    "import seaborn as sb\n",
    "\n",
    "discretization_factor = 0.5\n",
    "bw_method = 0.12\n",
    "\n",
    "def gather_result(output_path):\n",
    "    simulation_settings = cra.get_simulation_settings(output_path)\n",
    "    max_iter = np.max(cra.get_all_iterations(output_path))\n",
    "\n",
    "    kde_clrs = cra.get_clusters_kde(output_path, max_iter, discretization_factor, bw_method)\n",
    "    if kde_clrs != None and kde_clrs.validate():\n",
    "        kde_clusters = kde_clrs.n_clusters\n",
    "        kde_clusters_at_cargo = len(kde_clrs.clusters_at_cargo(relative_radial_distance=0.5))\n",
    "    else:\n",
    "        kde_clusters = np.nan\n",
    "        kde_clusters_at_cargo = np.nan\n",
    "    \n",
    "    graph_clrs = cra.get_clusters_graph(output_path, max_iter)\n",
    "    if graph_clrs != None and graph_clrs.validate():\n",
    "        graph_clusters = graph_clrs.n_clusters\n",
    "        graph_clusters_at_cargo = len(graph_clrs.clusters_at_cargo(relative_radial_distance=0.5))\n",
    "    else:\n",
    "        graph_clusters = np.nan\n",
    "        graph_clusters_at_cargo = np.nan\n",
    "\n",
    "    return {\n",
    "        \"kde_clusters\": kde_clusters,\n",
    "        \"kde_clusters_at_cargo\": kde_clusters_at_cargo,\n",
    "        \"graph_clusters\": graph_clusters,\n",
    "        \"graph_clusters_at_cargo\": graph_clusters_at_cargo,\n",
    "        \"potential_strength_r11_r11\": simulation_settings.potential_strength_r11_r11,\n",
    "        \"potential_strength_cargo_r11\": simulation_settings.potential_strength_cargo_r11,\n",
    "        \"potential_strength_cargo_r11_avidity\": simulation_settings.potential_strength_cargo_r11_avidity,\n",
    "        \"kb_temperature_r11\": simulation_settings.kb_temperature_r11,\n",
    "        \"iteration\": max_iter,\n",
    "        \"output_path\": output_path,\n",
    "    }\n",
    "\n",
    "\n",
    "# args = [Path(folder) for folder in glob.glob(\"out/autophagy/explore*\")]\n",
    "# args = list(filter(lambda path: len(glob.glob(str(path) + \"/cell_storage/json/*\")) == 51, args))\n",
    "# pool = mp.Pool(10)\n",
    "# results = cra.pd.DataFrame(list(tqdm.tqdm(pool.imap_unordered(gather_result, args), total=len(args))))\n",
    "# results.to_csv(\"parameter_space.csv\")"
   ]
  },
  {
   "cell_type": "code",
   "execution_count": null,
   "metadata": {},
   "outputs": [],
   "source": [
    "# Filter for NaN values\n",
    "results = cra.pd.read_csv(\"parameter_space.csv\")\n",
    "df = results[results[\"kde_clusters\"]>0]\n",
    "\n",
    "# Get unique entries for each parameter\n",
    "values_potential_strength_r11_r11 = np.unique(df[\"potential_strength_r11_r11\"])\n",
    "values_potential_strength_cargo_r11 = np.unique(df[\"potential_strength_cargo_r11\"])\n",
    "values_potential_strength_cargo_r11_avidity = np.unique(df[\"potential_strength_cargo_r11_avidity\"])\n",
    "values_kb_temperature_r11 = np.unique(df[\"kb_temperature_r11\"])\n",
    "\n",
    "print(values_potential_strength_r11_r11)\n",
    "print(values_potential_strength_cargo_r11)\n",
    "print(values_potential_strength_cargo_r11_avidity)\n",
    "print(values_kb_temperature_r11)"
   ]
  },
  {
   "cell_type": "code",
   "execution_count": null,
   "metadata": {},
   "outputs": [],
   "source": [
    "fig, ax = plt.subplots(2, 2, figsize=(12, 12))\n",
    "\n",
    "fig.suptitle(\"KDE Clusters\", fontsize=20)\n",
    "sb.violinplot(x=\"kb_temperature_r11\", y=\"kde_clusters_at_cargo\", data=df, formatter=lambda x: f\"{x:05.4f}\", ax=ax[0,0])\n",
    "sb.violinplot(x=\"potential_strength_cargo_r11_avidity\", y=\"kde_clusters_at_cargo\", data=df, formatter=lambda x: f\"{x:05.4f}\", ax=ax[0,1])\n",
    "sb.violinplot(x=\"potential_strength_cargo_r11\", y=\"kde_clusters_at_cargo\", data=df, formatter=lambda x: f\"{x:05.4f}\", ax=ax[1,0])\n",
    "sb.violinplot(x=\"potential_strength_r11_r11\", y=\"kde_clusters_at_cargo\", data=df, formatter=lambda x: f\"{x:05.4f}\", ax=ax[1,1])\n",
    "fig.tight_layout()\n",
    "plt.show()"
   ]
  },
  {
   "cell_type": "code",
   "execution_count": null,
   "metadata": {},
   "outputs": [],
   "source": [
    "import matplotlib.pyplot as plt\n",
    "import seaborn as sb\n",
    "fig, ax = plt.subplots(2, 2, figsize=(12, 12))\n",
    "\n",
    "fig.suptitle(\"Graph Clusters\", fontsize=20)\n",
    "sb.violinplot(x=\"kb_temperature_r11\", y=\"graph_clusters_at_cargo\", data=df, formatter=lambda x: f\"{x:05.4f}\", ax=ax[0,0])\n",
    "sb.violinplot(x=\"potential_strength_cargo_r11_avidity\", y=\"graph_clusters_at_cargo\", data=df, formatter=lambda x: f\"{x:05.4f}\", ax=ax[0,1])\n",
    "sb.violinplot(x=\"potential_strength_cargo_r11\", y=\"graph_clusters_at_cargo\", data=df, formatter=lambda x: f\"{x:05.4f}\", ax=ax[1,0])\n",
    "sb.violinplot(x=\"potential_strength_r11_r11\", y=\"graph_clusters_at_cargo\", data=df, formatter=lambda x: f\"{x:05.4f}\", ax=ax[1,1])\n",
    "fig.tight_layout()\n",
    "plt.show()"
   ]
  },
  {
   "cell_type": "code",
   "execution_count": null,
   "metadata": {},
   "outputs": [],
   "source": [
    "output_path = cra.get_last_output_path()\n",
    "max_iter = max(cra.get_all_iterations(output_path))"
   ]
  },
  {
   "cell_type": "code",
   "execution_count": null,
   "metadata": {},
   "outputs": [],
   "source": [
    "discretization_factor = 0.5\n",
    "bw_method = 0.12\n",
    "fig = cra.plot_cluster_distribution(output_path, max_iter, discretization_factor, bw_method)"
   ]
  },
  {
   "cell_type": "code",
   "execution_count": null,
   "metadata": {},
   "outputs": [],
   "source": [
    "fig = cra.save_kernel_density(\n",
    "    output_path,\n",
    "    max_iter,\n",
    "    overwrite=True,\n",
    "    threshold=0.1,\n",
    "    discretization_factor=0.5,\n",
    "    bw_method=0.12\n",
    ")"
   ]
  },
  {
   "cell_type": "code",
   "execution_count": null,
   "metadata": {},
   "outputs": [],
   "source": [
    "# cra.save_all_kernel_density(output_path, threshold=0.6, overwrite=True, bw_method=0.4, discretization_factor=0.5)\n",
    "# \n",
    "# bashcmd = f\"ffmpeg -v quiet -stats -y -r 30 -f image2 -pattern_type glob -i '{output_path}/kernel_density/*.png' -c:v h264 -pix_fmt yuv420p -strict -2 {output_path}/kernel_density_movie.mp4\"\n",
    "# os.system(bashcmd)"
   ]
  }
 ],
 "metadata": {
  "kernelspec": {
   "display_name": ".venv",
   "language": "python",
   "name": "python3"
  },
  "language_info": {
   "codemirror_mode": {
    "name": "ipython",
    "version": 3
   },
   "file_extension": ".py",
   "mimetype": "text/x-python",
   "name": "python",
   "nbconvert_exporter": "python",
   "pygments_lexer": "ipython3",
   "version": "3.11.6"
  }
 },
 "nbformat": 4,
 "nbformat_minor": 2
}
