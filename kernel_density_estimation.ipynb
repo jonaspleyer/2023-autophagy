{
 "cells": [
  {
   "cell_type": "code",
   "execution_count": null,
   "metadata": {},
   "outputs": [],
   "source": [
    "import cr_autophagy as cra\n",
    "\n",
    "# Imports of general-purpose python libraries\n",
    "from pathlib import Path\n",
    "\n",
    "# output_path = cra.get_last_output_path()\n",
    "output_path = Path(\"out/autophagy/2023-12-12-T00-34-23\")\n",
    "simulation_settings = cra.get_simulation_settings(output_path)\n",
    "max_iter = max(cra.get_all_iterations(output_path))"
   ]
  },
  {
   "cell_type": "code",
   "execution_count": null,
   "metadata": {},
   "outputs": [],
   "source": [
    "import importlib\n",
    "importlib.reload(cra)\n",
    "\n",
    "\n",
    "discretization_factor = 0.5\n",
    "bw_method = 0.12\n",
    "fig = cra.plot_cluster_distribution(output_path, max_iter, discretization_factor, bw_method)"
   ]
  },
  {
   "cell_type": "code",
   "execution_count": null,
   "metadata": {},
   "outputs": [],
   "source": [
    "fig = cra.save_kernel_density(\n",
    "    output_path,\n",
    "    max_iter,\n",
    "    overwrite=True,\n",
    "    threshold=0.001,\n",
    "    discretization_factor=0.5,\n",
    "    bw_method=0.15\n",
    ")"
   ]
  },
  {
   "cell_type": "code",
   "execution_count": null,
   "metadata": {},
   "outputs": [],
   "source": [
    "# cra.save_all_kernel_density(output_path, threshold=0.6, overwrite=True, bw_method=0.4, discretization_factor=0.5)\n",
    "# \n",
    "# bashcmd = f\"ffmpeg -v quiet -stats -y -r 30 -f image2 -pattern_type glob -i '{output_path}/kernel_density/*.png' -c:v h264 -pix_fmt yuv420p -strict -2 {output_path}/kernel_density_movie.mp4\"\n",
    "# os.system(bashcmd)"
   ]
  }
 ],
 "metadata": {
  "kernelspec": {
   "display_name": ".venv",
   "language": "python",
   "name": "python3"
  },
  "language_info": {
   "codemirror_mode": {
    "name": "ipython",
    "version": 3
   },
   "file_extension": ".py",
   "mimetype": "text/x-python",
   "name": "python",
   "nbconvert_exporter": "python",
   "pygments_lexer": "ipython3",
   "version": "3.11.6"
  }
 },
 "nbformat": 4,
 "nbformat_minor": 2
}
