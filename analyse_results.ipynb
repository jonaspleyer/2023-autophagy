{
 "cells": [
  {
   "cell_type": "code",
   "execution_count": null,
   "metadata": {},
   "outputs": [],
   "source": [
    "# Specific imports for cellular_raza\n",
    "# The package is named cr_autophagy\n",
    "# We want to reload the package when some of the behind-the scenes python functions change\n",
    "# This is what the importlib statements are for\n",
    "import importlib\n",
    "import cr_autophagy as cra\n",
    "importlib.reload(cra)\n",
    "\n",
    "# Imports of general-purpose python libraries\n",
    "import numpy as np\n",
    "import matplotlib.pyplot as plt\n",
    "import scipy as sp\n",
    "import pyvista as pv\n",
    "import multiprocessing as mp\n",
    "from pathlib import Path\n",
    "import os\n",
    "\n",
    "output_path = cra.get_last_output_path()\n",
    "# output_path = Path(\"out/autophagy/2023-11-24-18-05-41\")\n",
    "print(output_path)\n",
    "simulation_settings = cra.get_simulation_settings(output_path)\n",
    "iter_0_particles = cra.get_particles_at_iter(output_path, 0)\n",
    "max_iter = max(cra.get_all_iterations(output_path))"
   ]
  },
  {
   "cell_type": "code",
   "execution_count": null,
   "metadata": {},
   "outputs": [],
   "source": [
    "cargo_colour = \"#000b5c\"\n",
    "atg11_colour = \"#ff7700\"\n",
    "\n",
    "import scipy as sp\n",
    "data_cells = cra.get_particles_at_iter(output_path, max_iter)\n",
    "\n",
    "cargo_mask = data_cells[\"element.cell.interaction.species\"]==\"Cargo\"\n",
    "data = np.array([x for x in data_cells[\"element.cell.mechanics.pos\"]])\n",
    "whitened = sp.cluster.vq.whiten(data)\n",
    "whitened_cargo = sp.cluster.vq.whiten(data)[cargo_mask]\n",
    "whitened_atg11 = sp.cluster.vq.whiten(data)[cargo_mask==False]\n",
    "book_atg11 = np.array((whitened_atg11[0], whitened_atg11[2]))\n",
    "codebook_cargo, distortion_cargo = sp.cluster.vq.kmeans(whitened_cargo, 1)\n",
    "codebook_atg11, distoration_atg11 = sp.cluster.vq.kmeans(whitened_atg11, book_atg11)\n",
    "\n",
    "fig, ax = plt.subplots(figsize=(8, 8))\n",
    "# Plot the points of particles\n",
    "ax.scatter(whitened_cargo[:,2], whitened_cargo[:,1], color=\"#6172ed\")\n",
    "ax.scatter(whitened[cargo_mask==False][:,2], whitened[cargo_mask==False][:,1], color=\"#e6cb8a\")\n",
    "\n",
    "# Plot the located clusters\n",
    "ax.scatter(codebook_cargo[:,2], codebook_cargo[:,1], color=\"#000b5c\")\n",
    "ax.scatter(codebook_atg11[:,2], codebook_atg11[:,1], color=\"#ff7700\")\n",
    "\n",
    "plt.show(fig)"
   ]
  },
  {
   "cell_type": "code",
   "execution_count": null,
   "metadata": {},
   "outputs": [],
   "source": [
    "particles = cra.get_particles_at_iter(output_path, max_iter)\n",
    "cargo_pos = np.array([x for x in particles[particles[\"element.cell.interaction.species\"]==\"Cargo\"][\"element.cell.mechanics.pos\"]])\n",
    "atg11_pos = np.array([x for x in particles[particles[\"element.cell.interaction.species\"]!=\"Cargo\"][\"element.cell.mechanics.pos\"]])\n",
    "\n",
    "cargo_middle = np.average(cargo_pos, axis=0)"
   ]
  },
  {
   "cell_type": "code",
   "execution_count": null,
   "metadata": {},
   "outputs": [],
   "source": [
    "r_cargo = np.linalg.norm(cargo_pos-cargo_middle, axis=1)\n",
    "r_atg11 = np.linalg.norm(atg11_pos-cargo_middle, axis=1)\n",
    "\n",
    "fig, axs = plt.subplots(1, 3, subplot_kw={'projection': 'polar'}, figsize=(12, 4))\n",
    "\n",
    "for i in range(3):\n",
    "    coordinate = ['X', 'Y', 'Z'][i]\n",
    "    axs[i].set_title(f\"{coordinate}-Axis Polar Plot\")\n",
    "\n",
    "    cargo_coordinates = (cargo_pos - cargo_middle)[:,i]\n",
    "    atg11_coordinates = (atg11_pos - cargo_middle)[:,i]\n",
    "\n",
    "    theta_cargo = np.arccos(cargo_coordinates / r_cargo)*180/np.pi\n",
    "    theta_atg11 = np.arccos(atg11_coordinates / r_atg11)*180/np.pi\n",
    "\n",
    "    axs[i].scatter(theta_cargo, r_cargo, alpha=0.75, color=cargo_colour)\n",
    "    axs[i].scatter(theta_atg11, r_atg11, alpha=0.75, color=atg11_colour)"
   ]
  }
 ],
 "metadata": {
  "kernelspec": {
   "display_name": "Python 3 (ipykernel)",
   "language": "python",
   "name": "python3"
  },
  "language_info": {
   "codemirror_mode": {
    "name": "ipython",
    "version": 3
   },
   "file_extension": ".py",
   "mimetype": "text/x-python",
   "name": "python",
   "nbconvert_exporter": "python",
   "pygments_lexer": "ipython3",
   "version": "3.11.6"
  }
 },
 "nbformat": 4,
 "nbformat_minor": 4
}
