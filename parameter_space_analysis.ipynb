{
 "cells": [
  {
   "cell_type": "code",
   "execution_count": null,
   "metadata": {},
   "outputs": [],
   "source": [
    "# Disable Multithreading for analysis\n",
    "import os\n",
    "os.environ['OPENBLAS_NUM_THREADS'] = '1'\n",
    "os.environ['MKL_NUM_THREADS'] = '1'\n",
    "os.environ['OMP_NUM_THREADS'] = '1'\n",
    "os.environ['VECLIB_MAXIMUM_THREADS'] = '1'\n",
    "os.environ['NUMEXPR_NUM_THREADS'] = '1'\n",
    "\n",
    "import cr_autophagy as cra\n",
    "from pathlib import Path\n",
    "\n",
    "import importlib\n",
    "importlib.reload(cra)\n",
    "import glob\n",
    "import numpy as np\n",
    "import multiprocessing as mp\n",
    "import tqdm\n",
    "import matplotlib.pyplot as plt\n",
    "import seaborn as sb\n",
    "\n",
    "discretization_factor = 0.5\n",
    "bw_method = 0.2\n",
    "threshold = 0.3\n",
    "\n",
    "def gather_result(output_path):\n",
    "    # Obtain settings of simulation\n",
    "    simulation_settings = cra.get_simulation_settings(output_path)\n",
    "\n",
    "    # Currently we are only gathering information from the last iteration\n",
    "    max_iter = np.max(cra.get_all_iterations(output_path))\n",
    "\n",
    "    # Compute the kernel-density clusters\n",
    "    kde_clrs = cra.get_clusters_kde(\n",
    "        output_path,\n",
    "        max_iter,\n",
    "        threshold=threshold,\n",
    "        discretization_factor=discretization_factor,\n",
    "        bw_method=bw_method\n",
    "    )\n",
    "    if kde_clrs != None and kde_clrs.validate():\n",
    "        kde_clusters = kde_clrs.n_clusters\n",
    "        kde_clusters_at_cargo = len(kde_clrs.clusters_at_cargo(relative_radial_distance=0.5))\n",
    "    else:\n",
    "        kde_clusters = np.nan\n",
    "        kde_clusters_at_cargo = np.nan\n",
    "    \n",
    "    # Compute the graph clusters\n",
    "    graph_clrs = cra.get_clusters_graph(output_path, max_iter)\n",
    "    if graph_clrs != None and graph_clrs.validate():\n",
    "        graph_clusters = graph_clrs.n_clusters\n",
    "        graph_clusters_at_cargo = len(graph_clrs.clusters_at_cargo(relative_radial_distance=0.5))\n",
    "    else:\n",
    "        graph_clusters = np.nan\n",
    "        graph_clusters_at_cargo = np.nan\n",
    "\n",
    "    # Return all results in a dictionary\n",
    "    return {\n",
    "        \"kde_clusters\": kde_clusters,\n",
    "        \"kde_clusters_at_cargo\": kde_clusters_at_cargo,\n",
    "        \"graph_clusters\": graph_clusters,\n",
    "        \"graph_clusters_at_cargo\": graph_clusters_at_cargo,\n",
    "        \"potential_strength_r11_r11\": simulation_settings.potential_strength_r11_r11,\n",
    "        \"potential_strength_cargo_r11\": simulation_settings.potential_strength_cargo_r11,\n",
    "        \"potential_strength_cargo_r11_avidity\": simulation_settings.potential_strength_cargo_r11_avidity,\n",
    "        \"kb_temperature_r11\": simulation_settings.kb_temperature_r11,\n",
    "        \"interaction_relative_neighbour_distance\": simulation_settings.interaction_relative_neighbour_distance,\n",
    "        \"iteration\": max_iter,\n",
    "        \"output_path\": output_path,\n",
    "    }"
   ]
  },
  {
   "cell_type": "code",
   "execution_count": null,
   "metadata": {},
   "outputs": [],
   "source": [
    "# UNCOMMENT THESE LINES TO GENERATE THE PARAMETER SPACE OUTPUT FILE\n",
    "# args = [Path(folder) for folder in glob.glob(\"out/autophagy/explore_parameter_space_2_*\")]\n",
    "# pool = mp.Pool(40)\n",
    "# results = cra.pd.DataFrame(list(tqdm.tqdm(pool.imap_unordered(gather_result, args), total=len(args))))\n",
    "# results.to_csv(\"parameter_space_2.csv\")"
   ]
  },
  {
   "cell_type": "code",
   "execution_count": null,
   "metadata": {},
   "outputs": [],
   "source": [
    "# Filter for NaN values\n",
    "results = cra.pd.read_csv(\"parameter_space_2.csv\")\n",
    "df = results[results[\"kde_clusters\"]>0]\n",
    "\n",
    "# Get unique entries for each parameter\n",
    "values_potential_strength_r11_r11 = np.unique(df[\"potential_strength_r11_r11\"])\n",
    "values_potential_strength_cargo_r11 = np.unique(df[\"potential_strength_cargo_r11\"])\n",
    "values_potential_strength_cargo_r11_avidity = np.unique(df[\"potential_strength_cargo_r11_avidity\"])\n",
    "values_kb_temperature_r11 = np.unique(df[\"kb_temperature_r11\"])\n",
    "values_interaction_relative_neighbour_distance = np.unique(df[\"interaction_relative_neighbour_distance\"])\n",
    "\n",
    "print(values_potential_strength_r11_r11)\n",
    "print(values_potential_strength_cargo_r11)\n",
    "print(values_potential_strength_cargo_r11_avidity)\n",
    "print(values_kb_temperature_r11)\n",
    "print(values_interaction_relative_neighbour_distance)"
   ]
  },
  {
   "cell_type": "code",
   "execution_count": null,
   "metadata": {},
   "outputs": [],
   "source": [
    "df"
   ]
  },
  {
   "cell_type": "code",
   "execution_count": null,
   "metadata": {},
   "outputs": [],
   "source": [
    "fig, ax = plt.subplots()\n",
    "\n",
    "df_filtered = df[df[\"potential_strength_cargo_r11\"]==values_potential_strength_cargo_r11[1]]\n",
    "df_filtered = df_filtered[df_filtered[\"potential_strength_r11_r11\"]==values_potential_strength_r11_r11[2]]\n",
    "df_filtered = df_filtered[df_filtered[\"interaction_relative_neighbour_distance\"]==values_interaction_relative_neighbour_distance[2]]\n",
    "for kb_temp in values_kb_temperature_r11:\n",
    "    df_now = df_filtered[df_filtered[\"kb_temperature_r11\"]==kb_temp]\n",
    "\n",
    "    sb.lineplot(x=\"potential_strength_cargo_r11_avidity\", y=\"kde_clusters_at_cargo\", data=df_now, ax=ax, label=f\"$k_BT={kb_temp:5.4f}$\")\n",
    "ax.legend()\n",
    "plt.show(fig)\n",
    "df_filtered"
   ]
  },
  {
   "cell_type": "code",
   "execution_count": null,
   "metadata": {},
   "outputs": [],
   "source": [
    "fig, ax = plt.subplots()\n",
    "\n",
    "df_filtered = df[df[\"potential_strength_cargo_r11_avidity\"]==values_potential_strength_cargo_r11_avidity[2]]\n",
    "df_filtered = df_filtered[df_filtered[\"potential_strength_r11_r11\"]==values_potential_strength_r11_r11[2]]\n",
    "df_filtered = df_filtered[df_filtered[\"interaction_relative_neighbour_distance\"]==values_interaction_relative_neighbour_distance[2]]\n",
    "for kb_temp in values_kb_temperature_r11:\n",
    "    df_now = df_filtered[df_filtered[\"kb_temperature_r11\"]==kb_temp]\n",
    "\n",
    "    sb.lineplot(x=\"potential_strength_cargo_r11\", y=\"kde_clusters_at_cargo\", data=df_now, ax=ax, label=f\"$k_BT={kb_temp:5.4f}$\")\n",
    "ax.legend()\n",
    "plt.show(fig)"
   ]
  },
  {
   "cell_type": "code",
   "execution_count": null,
   "metadata": {},
   "outputs": [],
   "source": [
    "fig, ax = plt.subplots(3, 2, figsize=(10, 15))\n",
    "\n",
    "fig.suptitle(\"KDE Clusters\", fontsize=20)\n",
    "sb.violinplot(x=\"kb_temperature_r11\", y=\"kde_clusters_at_cargo\", data=df, formatter=lambda x: f\"{x:05.4f}\", ax=ax[0,0])\n",
    "sb.violinplot(x=\"potential_strength_cargo_r11_avidity\", y=\"kde_clusters_at_cargo\", data=df, formatter=lambda x: f\"{x:05.4f}\", ax=ax[0,1])\n",
    "sb.violinplot(x=\"potential_strength_cargo_r11\", y=\"kde_clusters_at_cargo\", data=df, formatter=lambda x: f\"{x:05.4f}\", ax=ax[1,0])\n",
    "sb.violinplot(x=\"potential_strength_r11_r11\", y=\"kde_clusters_at_cargo\", data=df, formatter=lambda x: f\"{x:05.4f}\", ax=ax[1,1])\n",
    "sb.violinplot(x=\"interaction_relative_neighbour_distance\", y=\"kde_clusters_at_cargo\", data=df, formatter=lambda x: f\"{x:05.4f}\", ax=ax[2,0])\n",
    "fig.tight_layout()\n",
    "plt.show()"
   ]
  },
  {
   "cell_type": "code",
   "execution_count": null,
   "metadata": {},
   "outputs": [],
   "source": [
    "import matplotlib.pyplot as plt\n",
    "import seaborn as sb\n",
    "fig, ax = plt.subplots(2, 2, figsize=(12, 12))\n",
    "\n",
    "fig.suptitle(\"Graph Clusters\", fontsize=20)\n",
    "sb.violinplot(x=\"kb_temperature_r11\", y=\"graph_clusters_at_cargo\", data=df, formatter=lambda x: f\"{x:05.4f}\", ax=ax[0,0])\n",
    "sb.violinplot(x=\"potential_strength_cargo_r11_avidity\", y=\"graph_clusters_at_cargo\", data=df, formatter=lambda x: f\"{x:05.4f}\", ax=ax[0,1])\n",
    "sb.violinplot(x=\"potential_strength_cargo_r11\", y=\"graph_clusters_at_cargo\", data=df, formatter=lambda x: f\"{x:05.4f}\", ax=ax[1,0])\n",
    "sb.violinplot(x=\"potential_strength_r11_r11\", y=\"graph_clusters_at_cargo\", data=df, formatter=lambda x: f\"{x:05.4f}\", ax=ax[1,1])\n",
    "fig.tight_layout()\n",
    "plt.show()"
   ]
  },
  {
   "cell_type": "code",
   "execution_count": null,
   "metadata": {},
   "outputs": [],
   "source": [
    "output_path = cra.get_last_output_path()\n",
    "# output_path = Path(\"out/autophagy/2023-12-12-T10-33-01\")\n",
    "max_iter = max(cra.get_all_iterations(output_path))"
   ]
  },
  {
   "cell_type": "code",
   "execution_count": null,
   "metadata": {},
   "outputs": [],
   "source": [
    "fig = cra.save_cluster_information_plots(output_path, max_iter, connection_distance=2.5, overwrite=True)"
   ]
  },
  {
   "cell_type": "code",
   "execution_count": null,
   "metadata": {},
   "outputs": [],
   "source": [
    "discretization_factor = 0.5\n",
    "bw_method = 0.2\n",
    "threshold = 0.4\n",
    "\n",
    "fig = cra.save_kernel_density(\n",
    "    output_path,\n",
    "    max_iter,\n",
    "    overwrite=True,\n",
    "    threshold=threshold,\n",
    "    discretization_factor=discretization_factor,\n",
    "    bw_method=bw_method\n",
    ")\n",
    "\n",
    "kde_clrs = cra.get_clusters_kde(\n",
    "    output_path,\n",
    "    max_iter,\n",
    "    threshold=threshold,\n",
    "    discretization_factor=discretization_factor,\n",
    "    bw_method=bw_method\n",
    ")\n",
    "\n",
    "kde_clusters_at_cargo = len(kde_clrs.clusters_at_cargo(relative_radial_distance=0.5))\n",
    "print(kde_clusters_at_cargo)"
   ]
  },
  {
   "cell_type": "code",
   "execution_count": null,
   "metadata": {},
   "outputs": [],
   "source": [
    "fig = cra.plot_cluster_distribution(output_path, max_iter, threshold, discretization_factor, bw_method)"
   ]
  },
  {
   "cell_type": "code",
   "execution_count": null,
   "metadata": {},
   "outputs": [],
   "source": [
    "# cra.save_all_kernel_density(output_path, threshold=0.6, overwrite=True, bw_method=0.4, discretization_factor=0.5)\n",
    "# \n",
    "# bashcmd = f\"ffmpeg -v quiet -stats -y -r 30 -f image2 -pattern_type glob -i '{output_path}/kernel_density/*.png' -c:v h264 -pix_fmt yuv420p -strict -2 {output_path}/kernel_density_movie.mp4\"\n",
    "# os.system(bashcmd)"
   ]
  }
 ],
 "metadata": {
  "kernelspec": {
   "display_name": ".venv",
   "language": "python",
   "name": "python3"
  },
  "language_info": {
   "codemirror_mode": {
    "name": "ipython",
    "version": 3
   },
   "file_extension": ".py",
   "mimetype": "text/x-python",
   "name": "python",
   "nbconvert_exporter": "python",
   "pygments_lexer": "ipython3",
   "version": "3.11.6"
  }
 },
 "nbformat": 4,
 "nbformat_minor": 2
}
