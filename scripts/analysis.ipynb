{
 "cells": [
  {
   "cell_type": "code",
   "execution_count": null,
   "metadata": {},
   "outputs": [],
   "source": [
    "# Specific imports for cellular_raza\n",
    "# The package is named cr_autophagy\n",
    "# We want to reload the package when some of the behind-the scenes python functions change\n",
    "# This is what the importlib statements are for\n",
    "import importlib\n",
    "import cr_autophagy as cra\n",
    "importlib.reload(cra)\n",
    "\n",
    "# Imports of general-purpose python libraries\n",
    "import numpy as np\n",
    "import matplotlib.pyplot as plt\n",
    "import scipy as sp\n",
    "import pyvista as pv\n",
    "import multiprocessing as mp\n",
    "from pathlib import Path\n",
    "import os\n",
    "\n",
    "output_path = cra.get_last_output_path()\n",
    "# output_path = Path(\"out/autophagy/2023-11-24-18-05-41\")\n",
    "print(output_path)\n",
    "simulation_settings = cra.get_simulation_settings(output_path)\n",
    "iter_0_particles = cra.get_particles_at_iter(output_path, 0)\n",
    "for col in iter_0_particles.columns:\n",
    "    print(col)\n",
    "max_iter = max(cra.get_all_iterations(output_path))"
   ]
  },
  {
   "cell_type": "code",
   "execution_count": null,
   "metadata": {},
   "outputs": [],
   "source": [
    "data_cells = cra.get_particles_at_iter(output_path, max_iter)\n",
    "cargo_pos = np.array([x for x in data_cells[data_cells[\"element.cell.interaction.species\"]==\"Cargo\"][\"element.cell.mechanics.pos\"]])\n",
    "atg11_pos = np.array([x for x in data_cells[data_cells[\"element.cell.interaction.species\"]!=\"Cargo\"][\"element.cell.mechanics.pos\"]])\n",
    "cargo_middle = np.average(cargo_pos, axis=0)\n",
    "\n",
    "dist1 = np.sqrt(np.sum((cargo_pos - cargo_middle)**2, axis=1))\n",
    "dist2 = np.sqrt(np.sum((atg11_pos - cargo_middle)**2, axis=1))\n",
    "\n",
    "fig, ax = plt.subplots()\n",
    "bins = np.histogram(np.hstack((dist1, dist2)), bins=30)[1]\n",
    "ax.hist(dist1, label=\"Cargo Particles\", bins=bins)\n",
    "ax.hist(dist2, label=\"R11 Particles\", bins=bins)\n",
    "ax.set_ylabel(\"Number of Particles\")\n",
    "ax.set_xlabel(\"Distance to Cargo center\")\n",
    "ax.legend()\n",
    "plt.show(fig)"
   ]
  },
  {
   "cell_type": "code",
   "execution_count": null,
   "metadata": {},
   "outputs": [],
   "source": [
    "import scipy as sp\n",
    "data_cells = cra.get_particles_at_iter(output_path, max_iter)\n",
    "\n",
    "cargo_mask = data_cells[\"element.cell.interaction.species\"]==\"Cargo\"\n",
    "data = np.array([x for x in data_cells[\"element.cell.mechanics.pos\"]])\n",
    "whitened = sp.cluster.vq.whiten(data)\n",
    "whitened_cargo = sp.cluster.vq.whiten(data)[cargo_mask]\n",
    "whitened_atg11 = sp.cluster.vq.whiten(data)[cargo_mask==False]\n",
    "book_atg11 = np.array((whitened_atg11[0], whitened_atg11[2]))\n",
    "codebook_cargo, distortion_cargo = sp.cluster.vq.kmeans(whitened_cargo, 1)\n",
    "codebook_atg11, distoration_atg11 = sp.cluster.vq.kmeans(whitened_atg11, book_atg11)\n",
    "\n",
    "fig, ax = plt.subplots(figsize=(8, 8))\n",
    "# Plot the points of particles\n",
    "ax.scatter(whitened_cargo[:,2], whitened_cargo[:,1], color=\"#6172ed\")\n",
    "ax.scatter(whitened[cargo_mask==False][:,2], whitened[cargo_mask==False][:,1], color=\"#e6cb8a\")\n",
    "\n",
    "# Plot the located clusters\n",
    "ax.scatter(codebook_cargo[:,2], codebook_cargo[:,1], color=\"#000b5c\")\n",
    "ax.scatter(codebook_atg11[:,2], codebook_atg11[:,1], color=\"#ff7700\")\n",
    "\n",
    "plt.show(fig)"
   ]
  },
  {
   "cell_type": "code",
   "execution_count": null,
   "metadata": {},
   "outputs": [],
   "source": [
    "# Save all snapshots\n",
    "cra.save_all_snapshots(output_path, threads=12)\n",
    "\n",
    "# Also create a movie with ffmpeg\n",
    "bashcmd = f\"ffmpeg -v quiet -stats -y -r 30 -f image2 -pattern_type glob -i '{output_path}/snapshots/*.png' -c:v h264 -pix_fmt yuv420p -strict -2 {output_path}/snapshot_movie.mp4\"\n",
    "os.system(bashcmd)"
   ]
  }
 ],
 "metadata": {
  "kernelspec": {
   "display_name": "Python 3 (ipykernel)",
   "language": "python",
   "name": "python3"
  },
  "language_info": {
   "codemirror_mode": {
    "name": "ipython",
    "version": 3
   },
   "file_extension": ".py",
   "mimetype": "text/x-python",
   "name": "python",
   "nbconvert_exporter": "python",
   "pygments_lexer": "ipython3",
   "version": "3.11.6"
  }
 },
 "nbformat": 4,
 "nbformat_minor": 4
}
